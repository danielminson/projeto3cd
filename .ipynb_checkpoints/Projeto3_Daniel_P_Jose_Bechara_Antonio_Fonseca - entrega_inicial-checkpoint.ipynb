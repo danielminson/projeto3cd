{
 "cells": [
  {
   "cell_type": "markdown",
   "metadata": {},
   "source": [
    "# Projeto 3#\n",
    "#### Daniel Pucciariello, Antonio Fonseca e José Bechara.####\n",
    "\n",
    "## Tema 1:##\n",
    "Prever se um projeto do kickstarter irá ser bem sucedido ou não.\n",
    "\n",
    "Técnica: Classificador.\n",
    "\n",
    "https://www.kaggle.com/kemical/kickstarter-projects\n",
    "\n",
    "## Tema 2:##\n",
    "Realizar a recomendação de um filme baseado no fato de um usuário ter gostado de um outro filme específico. \n",
    "\n",
    "Técnica: Classificador.\n",
    "\n",
    "https://www.kaggle.com/laowingkin/netflix-movie-recommendation"
   ]
  }
 ],
 "metadata": {
  "kernelspec": {
   "display_name": "Python 3",
   "language": "python",
   "name": "python3"
  },
  "language_info": {
   "codemirror_mode": {
    "name": "ipython",
    "version": 3
   },
   "file_extension": ".py",
   "mimetype": "text/x-python",
   "name": "python",
   "nbconvert_exporter": "python",
   "pygments_lexer": "ipython3",
   "version": "3.7.5"
  }
 },
 "nbformat": 4,
 "nbformat_minor": 2
}
