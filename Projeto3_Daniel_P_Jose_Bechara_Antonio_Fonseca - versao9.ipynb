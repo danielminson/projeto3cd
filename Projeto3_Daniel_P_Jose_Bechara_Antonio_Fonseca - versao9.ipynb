{
 "cells": [
  {
   "cell_type": "markdown",
   "metadata": {},
   "source": [
    "# Projeto 3#\n",
    "#### Antonio Fonseca, Daniel Pucciariello e José Bechara.####\n",
    "\n",
    "## Tema:##\n",
    "*Prever se um projeto do kickstarter irá ser bem sucedido ou não.*\n",
    "\n",
    "Técnica: Classificador.\n",
    "\n",
    "Objetivo secundário:\n",
    "\n",
    "*Tentar estimar o valor a ser recebido baseado nas características de um projeto do kickstarter.*\n",
    "\n",
    "Técnica: Regressão.\n",
    "\n",
    "https://www.kaggle.com/kemical/kickstarter-projects\n"
   ]
  },
  {
   "cell_type": "code",
   "execution_count": 2,
   "metadata": {},
   "outputs": [],
   "source": [
    "%matplotlib notebook\n",
    "%reset -f\n",
    "\n",
    "\n",
    "import pandas as pd\n",
    "import numpy as np\n",
    "from scipy.stats import norm, probplot\n",
    "import statsmodels.api as sm\n",
    "import matplotlib.pyplot as plt\n",
    "from mpl_toolkits.mplot3d import Axes3D\n",
    "\n",
    "from sklearn import preprocessing\n",
    "\n",
    "from sklearn.metrics import accuracy_score\n",
    "from sklearn.pipeline import Pipeline\n",
    "\n",
    "from datetime import datetime\n",
    "\n",
    "%matplotlib inline"
   ]
  },
  {
   "cell_type": "code",
   "execution_count": 3,
   "metadata": {},
   "outputs": [],
   "source": [
    "def dummify(data, column_name):\n",
    "    \"\"\"\n",
    "        Converte a coluna column_name em dummies / one-hot e as adiciona ao dataframe\n",
    "        retorna uma copia do  df original *sem* a coluna que foi dummified\n",
    "    \"\"\"\n",
    "    df = data.copy()\n",
    "    # Nota: se você for um econometrista, pode se interessar por usar a opção dropFirst = True na get_dummies\n",
    "    df2 = pd.concat([df.drop(column_name, axis=1), pd.get_dummies(data[column_name], prefix=column_name)], axis=1)\n",
    "    return df2\n",
    "\n",
    "def calculo_dias(date1,date2):\n",
    "    \"\"\"\n",
    "        Função que calculo a quantidade de dias que um projeto ficou ativo.\n",
    "    \"\"\"\n",
    "    date_format = \"%Y-%m-%d %H:%M:%S\"\n",
    "    a = datetime.strptime(date1, date_format)\n",
    "    b = datetime.strptime(date2, date_format)\n",
    "    delta= a-b\n",
    "    return delta.days"
   ]
  },
  {
   "cell_type": "markdown",
   "metadata": {},
   "source": [
    "## Leitura dos dataframes:"
   ]
  },
  {
   "cell_type": "code",
   "execution_count": 4,
   "metadata": {},
   "outputs": [],
   "source": [
    "data = pd.read_csv('ks-projects-201801.csv', parse_dates=['deadline', 'launched'])\n"
   ]
  },
  {
   "cell_type": "code",
   "execution_count": 5,
   "metadata": {
    "scrolled": true
   },
   "outputs": [],
   "source": [
    "data = data[data.state != \"live\"]\n",
    "\n",
    "data_boolean = data.replace(\"canceled\", \"failed\").replace(\"undefined\", \"failed\").replace(\"suspended\", \"failed\")\n",
    "#criação de dataframe cujos estados dos projetos eram \"failed\" ou \"successful\""
   ]
  },
  {
   "cell_type": "code",
   "execution_count": 6,
   "metadata": {},
   "outputs": [
    {
     "data": {
      "text/plain": [
       "Film & Video    63253\n",
       "Music           51637\n",
       "Publishing      39575\n",
       "Games           34944\n",
       "Technology      32192\n",
       "Design          29765\n",
       "Art             27959\n",
       "Food            24418\n",
       "Fashion         22566\n",
       "Theater         10872\n",
       "Comics          10743\n",
       "Photography     10731\n",
       "Crafts           8733\n",
       "Journalism       4724\n",
       "Dance            3750\n",
       "Name: main_category, dtype: int64"
      ]
     },
     "execution_count": 6,
     "metadata": {},
     "output_type": "execute_result"
    }
   ],
   "source": [
    "data.main_category.value_counts()\n",
    "#Categorias dos projetos"
   ]
  },
  {
   "cell_type": "markdown",
   "metadata": {},
   "source": [
    "### Dataframe cru:"
   ]
  },
  {
   "cell_type": "code",
   "execution_count": 7,
   "metadata": {
    "scrolled": false
   },
   "outputs": [
    {
     "data": {
      "text/html": [
       "<div>\n",
       "<style scoped>\n",
       "    .dataframe tbody tr th:only-of-type {\n",
       "        vertical-align: middle;\n",
       "    }\n",
       "\n",
       "    .dataframe tbody tr th {\n",
       "        vertical-align: top;\n",
       "    }\n",
       "\n",
       "    .dataframe thead th {\n",
       "        text-align: right;\n",
       "    }\n",
       "</style>\n",
       "<table border=\"1\" class=\"dataframe\">\n",
       "  <thead>\n",
       "    <tr style=\"text-align: right;\">\n",
       "      <th></th>\n",
       "      <th>ID</th>\n",
       "      <th>name</th>\n",
       "      <th>category</th>\n",
       "      <th>main_category</th>\n",
       "      <th>currency</th>\n",
       "      <th>deadline</th>\n",
       "      <th>goal</th>\n",
       "      <th>launched</th>\n",
       "      <th>pledged</th>\n",
       "      <th>state</th>\n",
       "      <th>backers</th>\n",
       "      <th>country</th>\n",
       "      <th>usd pledged</th>\n",
       "      <th>usd_pledged_real</th>\n",
       "      <th>usd_goal_real</th>\n",
       "    </tr>\n",
       "  </thead>\n",
       "  <tbody>\n",
       "    <tr>\n",
       "      <th>0</th>\n",
       "      <td>1000002330</td>\n",
       "      <td>The Songs of Adelaide &amp; Abullah</td>\n",
       "      <td>Poetry</td>\n",
       "      <td>Publishing</td>\n",
       "      <td>GBP</td>\n",
       "      <td>2015-10-09</td>\n",
       "      <td>1000.0</td>\n",
       "      <td>2015-08-11 12:12:28</td>\n",
       "      <td>0.0</td>\n",
       "      <td>failed</td>\n",
       "      <td>0</td>\n",
       "      <td>GB</td>\n",
       "      <td>0.0</td>\n",
       "      <td>0.0</td>\n",
       "      <td>1533.95</td>\n",
       "    </tr>\n",
       "    <tr>\n",
       "      <th>1</th>\n",
       "      <td>1000003930</td>\n",
       "      <td>Greeting From Earth: ZGAC Arts Capsule For ET</td>\n",
       "      <td>Narrative Film</td>\n",
       "      <td>Film &amp; Video</td>\n",
       "      <td>USD</td>\n",
       "      <td>2017-11-01</td>\n",
       "      <td>30000.0</td>\n",
       "      <td>2017-09-02 04:43:57</td>\n",
       "      <td>2421.0</td>\n",
       "      <td>failed</td>\n",
       "      <td>15</td>\n",
       "      <td>US</td>\n",
       "      <td>100.0</td>\n",
       "      <td>2421.0</td>\n",
       "      <td>30000.00</td>\n",
       "    </tr>\n",
       "    <tr>\n",
       "      <th>2</th>\n",
       "      <td>1000004038</td>\n",
       "      <td>Where is Hank?</td>\n",
       "      <td>Narrative Film</td>\n",
       "      <td>Film &amp; Video</td>\n",
       "      <td>USD</td>\n",
       "      <td>2013-02-26</td>\n",
       "      <td>45000.0</td>\n",
       "      <td>2013-01-12 00:20:50</td>\n",
       "      <td>220.0</td>\n",
       "      <td>failed</td>\n",
       "      <td>3</td>\n",
       "      <td>US</td>\n",
       "      <td>220.0</td>\n",
       "      <td>220.0</td>\n",
       "      <td>45000.00</td>\n",
       "    </tr>\n",
       "  </tbody>\n",
       "</table>\n",
       "</div>"
      ],
      "text/plain": [
       "           ID                                           name        category  \\\n",
       "0  1000002330                The Songs of Adelaide & Abullah          Poetry   \n",
       "1  1000003930  Greeting From Earth: ZGAC Arts Capsule For ET  Narrative Film   \n",
       "2  1000004038                                 Where is Hank?  Narrative Film   \n",
       "\n",
       "  main_category currency   deadline     goal            launched  pledged  \\\n",
       "0    Publishing      GBP 2015-10-09   1000.0 2015-08-11 12:12:28      0.0   \n",
       "1  Film & Video      USD 2017-11-01  30000.0 2017-09-02 04:43:57   2421.0   \n",
       "2  Film & Video      USD 2013-02-26  45000.0 2013-01-12 00:20:50    220.0   \n",
       "\n",
       "    state  backers country  usd pledged  usd_pledged_real  usd_goal_real  \n",
       "0  failed        0      GB          0.0               0.0        1533.95  \n",
       "1  failed       15      US        100.0            2421.0       30000.00  \n",
       "2  failed        3      US        220.0             220.0       45000.00  "
      ]
     },
     "execution_count": 7,
     "metadata": {},
     "output_type": "execute_result"
    }
   ],
   "source": [
    "data.head(3)"
   ]
  },
  {
   "cell_type": "code",
   "execution_count": 8,
   "metadata": {
    "scrolled": true
   },
   "outputs": [
    {
     "data": {
      "image/png": "[encoded data removed]",
      "text/plain": [
       "<Figure size 432x288 with 1 Axes>"
      ]
     },
     "metadata": {
      "needs_background": "light"
     },
     "output_type": "display_data"
    }
   ],
   "source": [
    "data.state.value_counts(True).plot.bar();\n",
    "#distribuição dos estados dos projetos."
   ]
  },
  {
   "cell_type": "code",
   "execution_count": 9,
   "metadata": {},
   "outputs": [
    {
     "data": {
      "text/plain": [
       "failed        52.604147\n",
       "successful    35.639676\n",
       "canceled      10.317351\n",
       "undefined      0.947688\n",
       "suspended      0.491138\n",
       "Name: state, dtype: float64"
      ]
     },
     "execution_count": 9,
     "metadata": {},
     "output_type": "execute_result"
    }
   ],
   "source": [
    "data.state.value_counts(True)*100"
   ]
  },
  {
   "cell_type": "markdown",
   "metadata": {},
   "source": [
    "### Categorias:"
   ]
  },
  {
   "cell_type": "code",
   "execution_count": 10,
   "metadata": {},
   "outputs": [
    {
     "name": "stdout",
     "output_type": "stream",
     "text": [
      "Tamanho do dataframe:\n"
     ]
    },
    {
     "data": {
      "text/plain": [
       "375862"
      ]
     },
     "execution_count": 10,
     "metadata": {},
     "output_type": "execute_result"
    }
   ],
   "source": [
    "print(\"Tamanho do dataframe:\")\n",
    "len(data)"
   ]
  },
  {
   "cell_type": "code",
   "execution_count": 11,
   "metadata": {},
   "outputs": [],
   "source": [
    "data.category = data.category.astype('category')\n",
    "data.main_category = data.main_category.astype('category')\n",
    "data.state = data.state.astype('category')\n",
    "data.country = data.country.astype('category')"
   ]
  },
  {
   "cell_type": "markdown",
   "metadata": {},
   "source": [
    "### Porcentagem de sucesso nos projetos:"
   ]
  },
  {
   "cell_type": "code",
   "execution_count": 12,
   "metadata": {},
   "outputs": [
    {
     "name": "stdout",
     "output_type": "stream",
     "text": [
      "Número de projetos que falharam: 241906\n",
      "Número de projetos bem sucedidos: 133956\n",
      "Porcentagem de sucesso: 35.639676264160784 %\n"
     ]
    }
   ],
   "source": [
    "failed=data_boolean.state.value_counts()[0]\n",
    "sucessful=data_boolean.state.value_counts()[1]\n",
    "print(\"Número de projetos que falharam:\", failed)\n",
    "print(\"Número de projetos bem sucedidos:\", sucessful)\n",
    "print(\"Porcentagem de sucesso:\", 100*sucessful/(failed + sucessful), \"%\")"
   ]
  },
  {
   "cell_type": "markdown",
   "metadata": {},
   "source": [
    "### Representação gráfica desses dados:"
   ]
  },
  {
   "cell_type": "code",
   "execution_count": 13,
   "metadata": {},
   "outputs": [
    {
     "data": {
      "image/png": "[encoded data removed]",
      "text/plain": [
       "<Figure size 432x288 with 1 Axes>"
      ]
     },
     "metadata": {
      "needs_background": "light"
     },
     "output_type": "display_data"
    }
   ],
   "source": [
    "data_boolean.state.value_counts().plot(kind='bar', color=('blue', 'red'), legend=False)\n",
    "plt.title(\"Comparação da quantidade de projetos bem sucedidos e mal sucedidos\")\n",
    "plt.show();"
   ]
  },
  {
   "cell_type": "markdown",
   "metadata": {},
   "source": [
    "### \"Dummyficando\" as variáveis qualitativas:"
   ]
  },
  {
   "cell_type": "code",
   "execution_count": 14,
   "metadata": {
    "scrolled": true
   },
   "outputs": [
    {
     "data": {
      "text/plain": [
       "Index(['ID', 'name', 'category', 'currency', 'deadline', 'goal', 'launched',\n",
       "       'pledged', 'backers', 'country', 'usd pledged', 'usd_pledged_real',\n",
       "       'usd_goal_real', 'main_category_Art', 'main_category_Comics',\n",
       "       'main_category_Crafts', 'main_category_Dance', 'main_category_Design',\n",
       "       'main_category_Fashion', 'main_category_Film & Video',\n",
       "       'main_category_Food', 'main_category_Games', 'main_category_Journalism',\n",
       "       'main_category_Music', 'main_category_Photography',\n",
       "       'main_category_Publishing', 'main_category_Technology',\n",
       "       'main_category_Theater', 'state_canceled', 'state_failed',\n",
       "       'state_successful', 'state_suspended', 'state_undefined'],\n",
       "      dtype='object')"
      ]
     },
     "execution_count": 14,
     "metadata": {},
     "output_type": "execute_result"
    }
   ],
   "source": [
    "data_dummified = dummify(data, \"main_category\")\n",
    "data_dummified = dummify(data_dummified, \"state\")\n",
    "\n",
    "data_dummified.columns"
   ]
  },
  {
   "cell_type": "code",
   "execution_count": 15,
   "metadata": {},
   "outputs": [
    {
     "data": {
      "text/html": [
       "<div>\n",
       "<style scoped>\n",
       "    .dataframe tbody tr th:only-of-type {\n",
       "        vertical-align: middle;\n",
       "    }\n",
       "\n",
       "    .dataframe tbody tr th {\n",
       "        vertical-align: top;\n",
       "    }\n",
       "\n",
       "    .dataframe thead th {\n",
       "        text-align: right;\n",
       "    }\n",
       "</style>\n",
       "<table border=\"1\" class=\"dataframe\">\n",
       "  <thead>\n",
       "    <tr style=\"text-align: right;\">\n",
       "      <th></th>\n",
       "      <th>goal</th>\n",
       "      <th>state_successful</th>\n",
       "      <th>main_category_Art</th>\n",
       "      <th>main_category_Comics</th>\n",
       "      <th>main_category_Crafts</th>\n",
       "      <th>main_category_Dance</th>\n",
       "      <th>main_category_Design</th>\n",
       "      <th>main_category_Fashion</th>\n",
       "      <th>main_category_Film &amp; Video</th>\n",
       "      <th>main_category_Food</th>\n",
       "      <th>main_category_Games</th>\n",
       "      <th>main_category_Journalism</th>\n",
       "      <th>main_category_Music</th>\n",
       "      <th>main_category_Photography</th>\n",
       "      <th>main_category_Publishing</th>\n",
       "      <th>main_category_Technology</th>\n",
       "      <th>main_category_Theater</th>\n",
       "    </tr>\n",
       "  </thead>\n",
       "  <tbody>\n",
       "    <tr>\n",
       "      <th>0</th>\n",
       "      <td>1000.0</td>\n",
       "      <td>0</td>\n",
       "      <td>0</td>\n",
       "      <td>0</td>\n",
       "      <td>0</td>\n",
       "      <td>0</td>\n",
       "      <td>0</td>\n",
       "      <td>0</td>\n",
       "      <td>0</td>\n",
       "      <td>0</td>\n",
       "      <td>0</td>\n",
       "      <td>0</td>\n",
       "      <td>0</td>\n",
       "      <td>0</td>\n",
       "      <td>1</td>\n",
       "      <td>0</td>\n",
       "      <td>0</td>\n",
       "    </tr>\n",
       "    <tr>\n",
       "      <th>1</th>\n",
       "      <td>30000.0</td>\n",
       "      <td>0</td>\n",
       "      <td>0</td>\n",
       "      <td>0</td>\n",
       "      <td>0</td>\n",
       "      <td>0</td>\n",
       "      <td>0</td>\n",
       "      <td>0</td>\n",
       "      <td>1</td>\n",
       "      <td>0</td>\n",
       "      <td>0</td>\n",
       "      <td>0</td>\n",
       "      <td>0</td>\n",
       "      <td>0</td>\n",
       "      <td>0</td>\n",
       "      <td>0</td>\n",
       "      <td>0</td>\n",
       "    </tr>\n",
       "    <tr>\n",
       "      <th>2</th>\n",
       "      <td>45000.0</td>\n",
       "      <td>0</td>\n",
       "      <td>0</td>\n",
       "      <td>0</td>\n",
       "      <td>0</td>\n",
       "      <td>0</td>\n",
       "      <td>0</td>\n",
       "      <td>0</td>\n",
       "      <td>1</td>\n",
       "      <td>0</td>\n",
       "      <td>0</td>\n",
       "      <td>0</td>\n",
       "      <td>0</td>\n",
       "      <td>0</td>\n",
       "      <td>0</td>\n",
       "      <td>0</td>\n",
       "      <td>0</td>\n",
       "    </tr>\n",
       "    <tr>\n",
       "      <th>3</th>\n",
       "      <td>5000.0</td>\n",
       "      <td>0</td>\n",
       "      <td>0</td>\n",
       "      <td>0</td>\n",
       "      <td>0</td>\n",
       "      <td>0</td>\n",
       "      <td>0</td>\n",
       "      <td>0</td>\n",
       "      <td>0</td>\n",
       "      <td>0</td>\n",
       "      <td>0</td>\n",
       "      <td>0</td>\n",
       "      <td>1</td>\n",
       "      <td>0</td>\n",
       "      <td>0</td>\n",
       "      <td>0</td>\n",
       "      <td>0</td>\n",
       "    </tr>\n",
       "    <tr>\n",
       "      <th>4</th>\n",
       "      <td>19500.0</td>\n",
       "      <td>0</td>\n",
       "      <td>0</td>\n",
       "      <td>0</td>\n",
       "      <td>0</td>\n",
       "      <td>0</td>\n",
       "      <td>0</td>\n",
       "      <td>0</td>\n",
       "      <td>1</td>\n",
       "      <td>0</td>\n",
       "      <td>0</td>\n",
       "      <td>0</td>\n",
       "      <td>0</td>\n",
       "      <td>0</td>\n",
       "      <td>0</td>\n",
       "      <td>0</td>\n",
       "      <td>0</td>\n",
       "    </tr>\n",
       "  </tbody>\n",
       "</table>\n",
       "</div>"
      ],
      "text/plain": [
       "      goal  state_successful  main_category_Art  main_category_Comics  \\\n",
       "0   1000.0                 0                  0                     0   \n",
       "1  30000.0                 0                  0                     0   \n",
       "2  45000.0                 0                  0                     0   \n",
       "3   5000.0                 0                  0                     0   \n",
       "4  19500.0                 0                  0                     0   \n",
       "\n",
       "   main_category_Crafts  main_category_Dance  main_category_Design  \\\n",
       "0                     0                    0                     0   \n",
       "1                     0                    0                     0   \n",
       "2                     0                    0                     0   \n",
       "3                     0                    0                     0   \n",
       "4                     0                    0                     0   \n",
       "\n",
       "   main_category_Fashion  main_category_Film & Video  main_category_Food  \\\n",
       "0                      0                           0                   0   \n",
       "1                      0                           1                   0   \n",
       "2                      0                           1                   0   \n",
       "3                      0                           0                   0   \n",
       "4                      0                           1                   0   \n",
       "\n",
       "   main_category_Games  main_category_Journalism  main_category_Music  \\\n",
       "0                    0                         0                    0   \n",
       "1                    0                         0                    0   \n",
       "2                    0                         0                    0   \n",
       "3                    0                         0                    1   \n",
       "4                    0                         0                    0   \n",
       "\n",
       "   main_category_Photography  main_category_Publishing  \\\n",
       "0                          0                         1   \n",
       "1                          0                         0   \n",
       "2                          0                         0   \n",
       "3                          0                         0   \n",
       "4                          0                         0   \n",
       "\n",
       "   main_category_Technology  main_category_Theater  \n",
       "0                         0                      0  \n",
       "1                         0                      0  \n",
       "2                         0                      0  \n",
       "3                         0                      0  \n",
       "4                         0                      0  "
      ]
     },
     "execution_count": 15,
     "metadata": {},
     "output_type": "execute_result"
    }
   ],
   "source": [
    "#criação de um dataframe com as variaveis quantitativas (incluindo as provenientes de dummyficação)\n",
    "quantitativas = data_dummified.loc[:,['goal', 'state_successful', 'main_category_Art', 'main_category_Comics',\n",
    "       'main_category_Crafts', 'main_category_Dance', 'main_category_Design',\n",
    "       'main_category_Fashion', 'main_category_Film & Video',\n",
    "       'main_category_Food', 'main_category_Games', 'main_category_Journalism',\n",
    "       'main_category_Music', 'main_category_Photography',\n",
    "       'main_category_Publishing', 'main_category_Technology',\n",
    "       'main_category_Theater' ]]\n",
    "quantitativas.head(5)"
   ]
  },
  {
   "cell_type": "markdown",
   "metadata": {},
   "source": [
    "### Calculando o tempo de duração da campanha:"
   ]
  },
  {
   "cell_type": "code",
   "execution_count": 16,
   "metadata": {},
   "outputs": [],
   "source": [
    "#criação de uma lista com os valores de tempo de campanha em dias.\n",
    "delta_t =[]\n",
    "for e,i in zip(data.deadline, data.launched):\n",
    "    e = str(e)\n",
    "    i = str(i)\n",
    "    a = calculo_dias(e,i)\n",
    "    delta_t.append(a)"
   ]
  },
  {
   "cell_type": "code",
   "execution_count": 17,
   "metadata": {},
   "outputs": [
    {
     "data": {
      "text/html": [
       "<div>\n",
       "<style scoped>\n",
       "    .dataframe tbody tr th:only-of-type {\n",
       "        vertical-align: middle;\n",
       "    }\n",
       "\n",
       "    .dataframe tbody tr th {\n",
       "        vertical-align: top;\n",
       "    }\n",
       "\n",
       "    .dataframe thead th {\n",
       "        text-align: right;\n",
       "    }\n",
       "</style>\n",
       "<table border=\"1\" class=\"dataframe\">\n",
       "  <thead>\n",
       "    <tr style=\"text-align: right;\">\n",
       "      <th></th>\n",
       "      <th>goal</th>\n",
       "      <th>state_successful</th>\n",
       "      <th>main_category_Art</th>\n",
       "      <th>main_category_Comics</th>\n",
       "      <th>main_category_Crafts</th>\n",
       "      <th>main_category_Dance</th>\n",
       "      <th>main_category_Design</th>\n",
       "      <th>main_category_Fashion</th>\n",
       "      <th>main_category_Film &amp; Video</th>\n",
       "      <th>main_category_Food</th>\n",
       "      <th>main_category_Games</th>\n",
       "      <th>main_category_Journalism</th>\n",
       "      <th>main_category_Music</th>\n",
       "      <th>main_category_Photography</th>\n",
       "      <th>main_category_Publishing</th>\n",
       "      <th>main_category_Technology</th>\n",
       "      <th>main_category_Theater</th>\n",
       "      <th>deltat (days)</th>\n",
       "    </tr>\n",
       "  </thead>\n",
       "  <tbody>\n",
       "    <tr>\n",
       "      <th>0</th>\n",
       "      <td>1000.0</td>\n",
       "      <td>0</td>\n",
       "      <td>0</td>\n",
       "      <td>0</td>\n",
       "      <td>0</td>\n",
       "      <td>0</td>\n",
       "      <td>0</td>\n",
       "      <td>0</td>\n",
       "      <td>0</td>\n",
       "      <td>0</td>\n",
       "      <td>0</td>\n",
       "      <td>0</td>\n",
       "      <td>0</td>\n",
       "      <td>0</td>\n",
       "      <td>1</td>\n",
       "      <td>0</td>\n",
       "      <td>0</td>\n",
       "      <td>58</td>\n",
       "    </tr>\n",
       "    <tr>\n",
       "      <th>1</th>\n",
       "      <td>30000.0</td>\n",
       "      <td>0</td>\n",
       "      <td>0</td>\n",
       "      <td>0</td>\n",
       "      <td>0</td>\n",
       "      <td>0</td>\n",
       "      <td>0</td>\n",
       "      <td>0</td>\n",
       "      <td>1</td>\n",
       "      <td>0</td>\n",
       "      <td>0</td>\n",
       "      <td>0</td>\n",
       "      <td>0</td>\n",
       "      <td>0</td>\n",
       "      <td>0</td>\n",
       "      <td>0</td>\n",
       "      <td>0</td>\n",
       "      <td>59</td>\n",
       "    </tr>\n",
       "    <tr>\n",
       "      <th>2</th>\n",
       "      <td>45000.0</td>\n",
       "      <td>0</td>\n",
       "      <td>0</td>\n",
       "      <td>0</td>\n",
       "      <td>0</td>\n",
       "      <td>0</td>\n",
       "      <td>0</td>\n",
       "      <td>0</td>\n",
       "      <td>1</td>\n",
       "      <td>0</td>\n",
       "      <td>0</td>\n",
       "      <td>0</td>\n",
       "      <td>0</td>\n",
       "      <td>0</td>\n",
       "      <td>0</td>\n",
       "      <td>0</td>\n",
       "      <td>0</td>\n",
       "      <td>44</td>\n",
       "    </tr>\n",
       "    <tr>\n",
       "      <th>3</th>\n",
       "      <td>5000.0</td>\n",
       "      <td>0</td>\n",
       "      <td>0</td>\n",
       "      <td>0</td>\n",
       "      <td>0</td>\n",
       "      <td>0</td>\n",
       "      <td>0</td>\n",
       "      <td>0</td>\n",
       "      <td>0</td>\n",
       "      <td>0</td>\n",
       "      <td>0</td>\n",
       "      <td>0</td>\n",
       "      <td>1</td>\n",
       "      <td>0</td>\n",
       "      <td>0</td>\n",
       "      <td>0</td>\n",
       "      <td>0</td>\n",
       "      <td>29</td>\n",
       "    </tr>\n",
       "    <tr>\n",
       "      <th>4</th>\n",
       "      <td>19500.0</td>\n",
       "      <td>0</td>\n",
       "      <td>0</td>\n",
       "      <td>0</td>\n",
       "      <td>0</td>\n",
       "      <td>0</td>\n",
       "      <td>0</td>\n",
       "      <td>0</td>\n",
       "      <td>1</td>\n",
       "      <td>0</td>\n",
       "      <td>0</td>\n",
       "      <td>0</td>\n",
       "      <td>0</td>\n",
       "      <td>0</td>\n",
       "      <td>0</td>\n",
       "      <td>0</td>\n",
       "      <td>0</td>\n",
       "      <td>55</td>\n",
       "    </tr>\n",
       "  </tbody>\n",
       "</table>\n",
       "</div>"
      ],
      "text/plain": [
       "      goal  state_successful  main_category_Art  main_category_Comics  \\\n",
       "0   1000.0                 0                  0                     0   \n",
       "1  30000.0                 0                  0                     0   \n",
       "2  45000.0                 0                  0                     0   \n",
       "3   5000.0                 0                  0                     0   \n",
       "4  19500.0                 0                  0                     0   \n",
       "\n",
       "   main_category_Crafts  main_category_Dance  main_category_Design  \\\n",
       "0                     0                    0                     0   \n",
       "1                     0                    0                     0   \n",
       "2                     0                    0                     0   \n",
       "3                     0                    0                     0   \n",
       "4                     0                    0                     0   \n",
       "\n",
       "   main_category_Fashion  main_category_Film & Video  main_category_Food  \\\n",
       "0                      0                           0                   0   \n",
       "1                      0                           1                   0   \n",
       "2                      0                           1                   0   \n",
       "3                      0                           0                   0   \n",
       "4                      0                           1                   0   \n",
       "\n",
       "   main_category_Games  main_category_Journalism  main_category_Music  \\\n",
       "0                    0                         0                    0   \n",
       "1                    0                         0                    0   \n",
       "2                    0                         0                    0   \n",
       "3                    0                         0                    1   \n",
       "4                    0                         0                    0   \n",
       "\n",
       "   main_category_Photography  main_category_Publishing  \\\n",
       "0                          0                         1   \n",
       "1                          0                         0   \n",
       "2                          0                         0   \n",
       "3                          0                         0   \n",
       "4                          0                         0   \n",
       "\n",
       "   main_category_Technology  main_category_Theater  deltat (days)  \n",
       "0                         0                      0             58  \n",
       "1                         0                      0             59  \n",
       "2                         0                      0             44  \n",
       "3                         0                      0             29  \n",
       "4                         0                      0             55  "
      ]
     },
     "execution_count": 17,
     "metadata": {},
     "output_type": "execute_result"
    }
   ],
   "source": [
    "#criação de um dataframe semelhante ao criado anteriormente, porém com o delta_t dos projetos.\n",
    "data_delta_t=quantitativas\n",
    "data_delta_t[\"deltat (days)\"]=delta_t\n",
    "data_delta_t.head()"
   ]
  },
  {
   "cell_type": "code",
   "execution_count": 18,
   "metadata": {},
   "outputs": [],
   "source": [
    "y = quantitativas.state_successful == 1 # Selecionando apenas as campanhas que obtiveram sucesso para criar uma lista com valores booleanos (True ou False)"
   ]
  },
  {
   "cell_type": "markdown",
   "metadata": {},
   "source": [
    "# Regressão Logística:"
   ]
  },
  {
   "cell_type": "markdown",
   "metadata": {},
   "source": [
    "### Criação de diversos dataframes para serem utilizados pelo modelo e posteriormente testarem sua acurácia."
   ]
  },
  {
   "cell_type": "code",
   "execution_count": 19,
   "metadata": {},
   "outputs": [],
   "source": [
    "from sklearn.model_selection import train_test_split\n",
    "X_train, X_test, y_train, y_test = train_test_split(data_delta_t, y, test_size=0.1, random_state=112)"
   ]
  },
  {
   "cell_type": "code",
   "execution_count": 20,
   "metadata": {},
   "outputs": [
    {
     "data": {
      "text/plain": [
       "((338275, 18), (338275,), (37587, 18), (37587,))"
      ]
     },
     "execution_count": 20,
     "metadata": {},
     "output_type": "execute_result"
    }
   ],
   "source": [
    "X_train.shape, y_train.shape, X_test.shape, y_test.shape"
   ]
  },
  {
   "cell_type": "code",
   "execution_count": 21,
   "metadata": {},
   "outputs": [],
   "source": [
    "from sklearn.linear_model import LogisticRegression\n",
    "model = LogisticRegression(solver='lbfgs', multi_class='auto',max_iter=200)"
   ]
  },
  {
   "cell_type": "markdown",
   "metadata": {},
   "source": [
    "### Verificando se a proporção de sucessos e falhas no conjunto de treinamento é similar à proporção dos mesmos no conjunto de testes."
   ]
  },
  {
   "cell_type": "code",
   "execution_count": 22,
   "metadata": {},
   "outputs": [
    {
     "data": {
      "text/plain": [
       "False    217539\n",
       "True     120736\n",
       "Name: state_successful, dtype: int64"
      ]
     },
     "execution_count": 22,
     "metadata": {},
     "output_type": "execute_result"
    }
   ],
   "source": [
    "conta_treinamento = pd.Series(y_train).value_counts()\n",
    "conta_treinamento"
   ]
  },
  {
   "cell_type": "code",
   "execution_count": 23,
   "metadata": {},
   "outputs": [
    {
     "data": {
      "text/plain": [
       "False    24367\n",
       "True     13220\n",
       "Name: state_successful, dtype: int64"
      ]
     },
     "execution_count": 23,
     "metadata": {},
     "output_type": "execute_result"
    }
   ],
   "source": [
    "conta_teste = pd.Series(y_test).value_counts()\n",
    "conta_teste"
   ]
  },
  {
   "cell_type": "code",
   "execution_count": 24,
   "metadata": {},
   "outputs": [
    {
     "data": {
      "text/plain": [
       "0.5550085272066159"
      ]
     },
     "execution_count": 24,
     "metadata": {},
     "output_type": "execute_result"
    }
   ],
   "source": [
    "conta_treinamento[True] / conta_treinamento[False]"
   ]
  },
  {
   "cell_type": "code",
   "execution_count": 25,
   "metadata": {},
   "outputs": [
    {
     "data": {
      "text/plain": [
       "0.5425370377970206"
      ]
     },
     "execution_count": 25,
     "metadata": {},
     "output_type": "execute_result"
    }
   ],
   "source": [
    "conta_teste[True] / conta_teste[False]"
   ]
  },
  {
   "cell_type": "code",
   "execution_count": 26,
   "metadata": {},
   "outputs": [],
   "source": [
    "X_train=X_train.drop(columns=['state_successful']) # removendo coluna de estado do dataframe de treinamento"
   ]
  },
  {
   "cell_type": "code",
   "execution_count": 27,
   "metadata": {},
   "outputs": [],
   "source": [
    "X_test=X_test.drop(columns=['state_successful'])# removendo coluna de estado do dataframe de teste "
   ]
  },
  {
   "cell_type": "code",
   "execution_count": 28,
   "metadata": {},
   "outputs": [
    {
     "data": {
      "text/plain": [
       "LogisticRegression(C=1.0, class_weight=None, dual=False, fit_intercept=True,\n",
       "                   intercept_scaling=1, l1_ratio=None, max_iter=200,\n",
       "                   multi_class='auto', n_jobs=None, penalty='l2',\n",
       "                   random_state=None, solver='lbfgs', tol=0.0001, verbose=0,\n",
       "                   warm_start=False)"
      ]
     },
     "execution_count": 28,
     "metadata": {},
     "output_type": "execute_result"
    }
   ],
   "source": [
    "model.fit(X_train, y_train)"
   ]
  },
  {
   "cell_type": "code",
   "execution_count": 29,
   "metadata": {},
   "outputs": [
    {
     "name": "stdout",
     "output_type": "stream",
     "text": [
      "Acurácia: 0.6482826509165402\n"
     ]
    }
   ],
   "source": [
    "y_pred = model.predict(X_test)\n",
    "\n",
    "# Calcula acurácia.\n",
    "acc = accuracy_score(y_test, y_pred)\n",
    "\n",
    "print('Acurácia: {}'.format(acc))"
   ]
  },
  {
   "cell_type": "markdown",
   "metadata": {},
   "source": [
    "# Random Forest"
   ]
  },
  {
   "cell_type": "code",
   "execution_count": 30,
   "metadata": {},
   "outputs": [],
   "source": [
    "from sklearn.ensemble import RandomForestClassifier"
   ]
  },
  {
   "cell_type": "code",
   "execution_count": 31,
   "metadata": {},
   "outputs": [
    {
     "data": {
      "text/plain": [
       "RandomForestClassifier(bootstrap=True, class_weight=None, criterion='gini',\n",
       "                       max_depth=None, max_features='auto', max_leaf_nodes=None,\n",
       "                       min_impurity_decrease=0.0, min_impurity_split=None,\n",
       "                       min_samples_leaf=1, min_samples_split=2,\n",
       "                       min_weight_fraction_leaf=0.0, n_estimators=10,\n",
       "                       n_jobs=None, oob_score=False, random_state=112,\n",
       "                       verbose=0, warm_start=False)"
      ]
     },
     "execution_count": 31,
     "metadata": {},
     "output_type": "execute_result"
    }
   ],
   "source": [
    "rdm_forest = RandomForestClassifier(n_estimators=10, random_state=112)\n",
    "rdm_forest = rdm_forest.fit(X_train,y_train)\n",
    "rdm_forest"
   ]
  },
  {
   "cell_type": "code",
   "execution_count": 32,
   "metadata": {},
   "outputs": [
    {
     "name": "stdout",
     "output_type": "stream",
     "text": [
      "Acurácia: 0.6596961715486738\n"
     ]
    }
   ],
   "source": [
    "y_pred = rdm_forest.predict(X_test)\n",
    "\n",
    "# Calcula acurácia.\n",
    "acc = accuracy_score(y_test, y_pred)\n",
    "\n",
    "print('Acurácia: {}'.format(acc))"
   ]
  },
  {
   "cell_type": "markdown",
   "metadata": {},
   "source": [
    "# Regressão Linear:"
   ]
  },
  {
   "cell_type": "code",
   "execution_count": 33,
   "metadata": {},
   "outputs": [],
   "source": [
    "def regress(X,Y):\n",
    "    X_cp = sm.add_constant(X)\n",
    "    model = sm.OLS(Y,X_cp)\n",
    "    results = model.fit()\n",
    "    return results"
   ]
  },
  {
   "cell_type": "code",
   "execution_count": 34,
   "metadata": {},
   "outputs": [],
   "source": [
    "def rms(y, y_pred):\n",
    "    '''\n",
    "    Retorna o RMS\n",
    "    \n",
    "    y --> valores reais\n",
    "    y_pred --> valores previstos\n",
    "    '''\n",
    "    return (sum((y-y_pred)**2)*1/len(y))**0.5"
   ]
  },
  {
   "cell_type": "code",
   "execution_count": 35,
   "metadata": {},
   "outputs": [],
   "source": [
    "def acuracia(limite, y_pred, y_test):\n",
    "    total = 0\n",
    "    acertos = 0\n",
    "    erros = 0\n",
    "    lista = []\n",
    "    for e,i in zip(y_pred, y_test):\n",
    "        total+=1\n",
    "        maximo = i + limite*i \n",
    "        minimo = i - limite*i\n",
    "        if e<=maximo and e>=minimo:\n",
    "            lista.append(True)\n",
    "            acertos +=1\n",
    "        else:\n",
    "            lista.append(False)\n",
    "            erros+=1\n",
    "    acc = \"Acurácia=\",acertos/total\n",
    "    erro = \"Erro=\",erros/total\n",
    "    \n",
    "    return acc, erro"
   ]
  },
  {
   "cell_type": "code",
   "execution_count": 36,
   "metadata": {},
   "outputs": [
    {
     "data": {
      "text/plain": [
       "Index(['ID', 'name', 'category', 'currency', 'deadline', 'goal', 'launched',\n",
       "       'pledged', 'backers', 'country', 'usd pledged', 'usd_pledged_real',\n",
       "       'usd_goal_real', 'main_category_Art', 'main_category_Comics',\n",
       "       'main_category_Crafts', 'main_category_Dance', 'main_category_Design',\n",
       "       'main_category_Fashion', 'main_category_Film & Video',\n",
       "       'main_category_Food', 'main_category_Games', 'main_category_Journalism',\n",
       "       'main_category_Music', 'main_category_Photography',\n",
       "       'main_category_Publishing', 'main_category_Technology',\n",
       "       'main_category_Theater', 'state_canceled', 'state_failed',\n",
       "       'state_successful', 'state_suspended', 'state_undefined'],\n",
       "      dtype='object')"
      ]
     },
     "execution_count": 36,
     "metadata": {},
     "output_type": "execute_result"
    }
   ],
   "source": [
    "data_dummified.columns"
   ]
  },
  {
   "cell_type": "code",
   "execution_count": 37,
   "metadata": {
    "scrolled": true
   },
   "outputs": [
    {
     "data": {
      "text/html": [
       "<div>\n",
       "<style scoped>\n",
       "    .dataframe tbody tr th:only-of-type {\n",
       "        vertical-align: middle;\n",
       "    }\n",
       "\n",
       "    .dataframe tbody tr th {\n",
       "        vertical-align: top;\n",
       "    }\n",
       "\n",
       "    .dataframe thead th {\n",
       "        text-align: right;\n",
       "    }\n",
       "</style>\n",
       "<table border=\"1\" class=\"dataframe\">\n",
       "  <thead>\n",
       "    <tr style=\"text-align: right;\">\n",
       "      <th></th>\n",
       "      <th>goal</th>\n",
       "      <th>state_successful</th>\n",
       "      <th>main_category_Art</th>\n",
       "      <th>main_category_Comics</th>\n",
       "      <th>main_category_Crafts</th>\n",
       "      <th>main_category_Dance</th>\n",
       "      <th>main_category_Design</th>\n",
       "      <th>main_category_Fashion</th>\n",
       "      <th>main_category_Film &amp; Video</th>\n",
       "      <th>main_category_Food</th>\n",
       "      <th>main_category_Games</th>\n",
       "      <th>main_category_Journalism</th>\n",
       "      <th>main_category_Music</th>\n",
       "      <th>main_category_Photography</th>\n",
       "      <th>main_category_Publishing</th>\n",
       "      <th>main_category_Technology</th>\n",
       "      <th>main_category_Theater</th>\n",
       "      <th>usd_pledged_real</th>\n",
       "      <th>usd_goal_real</th>\n",
       "    </tr>\n",
       "  </thead>\n",
       "  <tbody>\n",
       "    <tr>\n",
       "      <th>0</th>\n",
       "      <td>1000.0</td>\n",
       "      <td>0</td>\n",
       "      <td>0</td>\n",
       "      <td>0</td>\n",
       "      <td>0</td>\n",
       "      <td>0</td>\n",
       "      <td>0</td>\n",
       "      <td>0</td>\n",
       "      <td>0</td>\n",
       "      <td>0</td>\n",
       "      <td>0</td>\n",
       "      <td>0</td>\n",
       "      <td>0</td>\n",
       "      <td>0</td>\n",
       "      <td>1</td>\n",
       "      <td>0</td>\n",
       "      <td>0</td>\n",
       "      <td>0.0</td>\n",
       "      <td>1533.95</td>\n",
       "    </tr>\n",
       "    <tr>\n",
       "      <th>1</th>\n",
       "      <td>30000.0</td>\n",
       "      <td>0</td>\n",
       "      <td>0</td>\n",
       "      <td>0</td>\n",
       "      <td>0</td>\n",
       "      <td>0</td>\n",
       "      <td>0</td>\n",
       "      <td>0</td>\n",
       "      <td>1</td>\n",
       "      <td>0</td>\n",
       "      <td>0</td>\n",
       "      <td>0</td>\n",
       "      <td>0</td>\n",
       "      <td>0</td>\n",
       "      <td>0</td>\n",
       "      <td>0</td>\n",
       "      <td>0</td>\n",
       "      <td>2421.0</td>\n",
       "      <td>30000.00</td>\n",
       "    </tr>\n",
       "    <tr>\n",
       "      <th>2</th>\n",
       "      <td>45000.0</td>\n",
       "      <td>0</td>\n",
       "      <td>0</td>\n",
       "      <td>0</td>\n",
       "      <td>0</td>\n",
       "      <td>0</td>\n",
       "      <td>0</td>\n",
       "      <td>0</td>\n",
       "      <td>1</td>\n",
       "      <td>0</td>\n",
       "      <td>0</td>\n",
       "      <td>0</td>\n",
       "      <td>0</td>\n",
       "      <td>0</td>\n",
       "      <td>0</td>\n",
       "      <td>0</td>\n",
       "      <td>0</td>\n",
       "      <td>220.0</td>\n",
       "      <td>45000.00</td>\n",
       "    </tr>\n",
       "    <tr>\n",
       "      <th>3</th>\n",
       "      <td>5000.0</td>\n",
       "      <td>0</td>\n",
       "      <td>0</td>\n",
       "      <td>0</td>\n",
       "      <td>0</td>\n",
       "      <td>0</td>\n",
       "      <td>0</td>\n",
       "      <td>0</td>\n",
       "      <td>0</td>\n",
       "      <td>0</td>\n",
       "      <td>0</td>\n",
       "      <td>0</td>\n",
       "      <td>1</td>\n",
       "      <td>0</td>\n",
       "      <td>0</td>\n",
       "      <td>0</td>\n",
       "      <td>0</td>\n",
       "      <td>1.0</td>\n",
       "      <td>5000.00</td>\n",
       "    </tr>\n",
       "    <tr>\n",
       "      <th>4</th>\n",
       "      <td>19500.0</td>\n",
       "      <td>0</td>\n",
       "      <td>0</td>\n",
       "      <td>0</td>\n",
       "      <td>0</td>\n",
       "      <td>0</td>\n",
       "      <td>0</td>\n",
       "      <td>0</td>\n",
       "      <td>1</td>\n",
       "      <td>0</td>\n",
       "      <td>0</td>\n",
       "      <td>0</td>\n",
       "      <td>0</td>\n",
       "      <td>0</td>\n",
       "      <td>0</td>\n",
       "      <td>0</td>\n",
       "      <td>0</td>\n",
       "      <td>1283.0</td>\n",
       "      <td>19500.00</td>\n",
       "    </tr>\n",
       "  </tbody>\n",
       "</table>\n",
       "</div>"
      ],
      "text/plain": [
       "      goal  state_successful  main_category_Art  main_category_Comics  \\\n",
       "0   1000.0                 0                  0                     0   \n",
       "1  30000.0                 0                  0                     0   \n",
       "2  45000.0                 0                  0                     0   \n",
       "3   5000.0                 0                  0                     0   \n",
       "4  19500.0                 0                  0                     0   \n",
       "\n",
       "   main_category_Crafts  main_category_Dance  main_category_Design  \\\n",
       "0                     0                    0                     0   \n",
       "1                     0                    0                     0   \n",
       "2                     0                    0                     0   \n",
       "3                     0                    0                     0   \n",
       "4                     0                    0                     0   \n",
       "\n",
       "   main_category_Fashion  main_category_Film & Video  main_category_Food  \\\n",
       "0                      0                           0                   0   \n",
       "1                      0                           1                   0   \n",
       "2                      0                           1                   0   \n",
       "3                      0                           0                   0   \n",
       "4                      0                           1                   0   \n",
       "\n",
       "   main_category_Games  main_category_Journalism  main_category_Music  \\\n",
       "0                    0                         0                    0   \n",
       "1                    0                         0                    0   \n",
       "2                    0                         0                    0   \n",
       "3                    0                         0                    1   \n",
       "4                    0                         0                    0   \n",
       "\n",
       "   main_category_Photography  main_category_Publishing  \\\n",
       "0                          0                         1   \n",
       "1                          0                         0   \n",
       "2                          0                         0   \n",
       "3                          0                         0   \n",
       "4                          0                         0   \n",
       "\n",
       "   main_category_Technology  main_category_Theater  usd_pledged_real  \\\n",
       "0                         0                      0               0.0   \n",
       "1                         0                      0            2421.0   \n",
       "2                         0                      0             220.0   \n",
       "3                         0                      0               1.0   \n",
       "4                         0                      0            1283.0   \n",
       "\n",
       "   usd_goal_real  \n",
       "0        1533.95  \n",
       "1       30000.00  \n",
       "2       45000.00  \n",
       "3        5000.00  \n",
       "4       19500.00  "
      ]
     },
     "execution_count": 37,
     "metadata": {},
     "output_type": "execute_result"
    }
   ],
   "source": [
    "data_regressao_pledge = data_dummified.loc[:,['goal', 'state_successful', 'main_category_Art', 'main_category_Comics',\n",
    "       'main_category_Crafts', 'main_category_Dance', 'main_category_Design',\n",
    "       'main_category_Fashion', 'main_category_Film & Video',\n",
    "       'main_category_Food', 'main_category_Games', 'main_category_Journalism',\n",
    "       'main_category_Music', 'main_category_Photography',\n",
    "       'main_category_Publishing', 'main_category_Technology',\n",
    "       'main_category_Theater', \"usd_pledged_real\", \"usd_goal_real\"]]\n",
    "data_regressao_pledge.head()"
   ]
  },
  {
   "cell_type": "code",
   "execution_count": 38,
   "metadata": {},
   "outputs": [],
   "source": [
    "y2 = data_regressao_pledge.usd_pledged_real\n",
    "data_regressao_pledge[\"delta t\"]=delta_t\n",
    "X_train2, X_test2, y_train2, y_test2 = train_test_split(data_regressao_pledge, y2, test_size=0.1, random_state=112)"
   ]
  },
  {
   "cell_type": "code",
   "execution_count": 39,
   "metadata": {},
   "outputs": [],
   "source": [
    "X_test2=X_test2.drop(columns=['usd_pledged_real', \"state_successful\"]) # removendo coluna de dinheiro do dataframe de treinamento"
   ]
  },
  {
   "cell_type": "code",
   "execution_count": 40,
   "metadata": {},
   "outputs": [],
   "source": [
    "X_train2=X_train2.drop(columns=['usd_pledged_real', \"state_successful\"]) # removendo coluna de dinheiro do dataframe de treinamento"
   ]
  },
  {
   "cell_type": "code",
   "execution_count": 41,
   "metadata": {
    "scrolled": true
   },
   "outputs": [
    {
     "name": "stderr",
     "output_type": "stream",
     "text": [
      "/usr/local/lib/python3.7/site-packages/numpy/core/fromnumeric.py:2495: FutureWarning: Method .ptp is deprecated and will be removed in a future version. Use numpy.ptp instead.\n",
      "  return ptp(axis=axis, out=out, **kwargs)\n"
     ]
    },
    {
     "data": {
      "text/html": [
       "<table class=\"simpletable\">\n",
       "<caption>OLS Regression Results</caption>\n",
       "<tr>\n",
       "  <th>Dep. Variable:</th>    <td>usd_pledged_real</td> <th>  R-squared:         </th>  <td>   0.008</td>  \n",
       "</tr>\n",
       "<tr>\n",
       "  <th>Model:</th>                   <td>OLS</td>       <th>  Adj. R-squared:    </th>  <td>   0.008</td>  \n",
       "</tr>\n",
       "<tr>\n",
       "  <th>Method:</th>             <td>Least Squares</td>  <th>  F-statistic:       </th>  <td>   151.6</td>  \n",
       "</tr>\n",
       "<tr>\n",
       "  <th>Date:</th>             <td>Wed, 20 Nov 2019</td> <th>  Prob (F-statistic):</th>   <td>  0.00</td>   \n",
       "</tr>\n",
       "<tr>\n",
       "  <th>Time:</th>                 <td>17:06:10</td>     <th>  Log-Likelihood:    </th> <td>-4.3372e+06</td>\n",
       "</tr>\n",
       "<tr>\n",
       "  <th>No. Observations:</th>      <td>338275</td>      <th>  AIC:               </th>  <td>8.674e+06</td> \n",
       "</tr>\n",
       "<tr>\n",
       "  <th>Df Residuals:</th>          <td>338257</td>      <th>  BIC:               </th>  <td>8.675e+06</td> \n",
       "</tr>\n",
       "<tr>\n",
       "  <th>Df Model:</th>              <td>    17</td>      <th>                     </th>      <td> </td>     \n",
       "</tr>\n",
       "<tr>\n",
       "  <th>Covariance Type:</th>      <td>nonrobust</td>    <th>                     </th>      <td> </td>     \n",
       "</tr>\n",
       "</table>\n",
       "<table class=\"simpletable\">\n",
       "<tr>\n",
       "               <td></td>                 <th>coef</th>     <th>std err</th>      <th>t</th>      <th>P>|t|</th>  <th>[0.025</th>    <th>0.975]</th>  \n",
       "</tr>\n",
       "<tr>\n",
       "  <th>const</th>                      <td> 7197.0784</td> <td>  211.313</td> <td>   34.059</td> <td> 0.000</td> <td> 6782.911</td> <td> 7611.246</td>\n",
       "</tr>\n",
       "<tr>\n",
       "  <th>goal</th>                       <td>   -0.0003</td> <td>    0.000</td> <td>   -0.697</td> <td> 0.486</td> <td>   -0.001</td> <td>    0.001</td>\n",
       "</tr>\n",
       "<tr>\n",
       "  <th>main_category_Art</th>          <td>-4032.3782</td> <td>  564.742</td> <td>   -7.140</td> <td> 0.000</td> <td>-5139.256</td> <td>-2925.500</td>\n",
       "</tr>\n",
       "<tr>\n",
       "  <th>main_category_Comics</th>       <td> -480.4577</td> <td>  872.516</td> <td>   -0.551</td> <td> 0.582</td> <td>-2190.563</td> <td> 1229.648</td>\n",
       "</tr>\n",
       "<tr>\n",
       "  <th>main_category_Crafts</th>       <td>-5641.7619</td> <td>  964.362</td> <td>   -5.850</td> <td> 0.000</td> <td>-7531.884</td> <td>-3751.640</td>\n",
       "</tr>\n",
       "<tr>\n",
       "  <th>main_category_Dance</th>        <td>-3710.9949</td> <td> 1455.416</td> <td>   -2.550</td> <td> 0.011</td> <td>-6563.569</td> <td> -858.421</td>\n",
       "</tr>\n",
       "<tr>\n",
       "  <th>main_category_Design</th>       <td> 1.694e+04</td> <td>  548.701</td> <td>   30.872</td> <td> 0.000</td> <td> 1.59e+04</td> <td>  1.8e+04</td>\n",
       "</tr>\n",
       "<tr>\n",
       "  <th>main_category_Fashion</th>      <td>-1409.1162</td> <td>  620.868</td> <td>   -2.270</td> <td> 0.023</td> <td>-2625.999</td> <td> -192.233</td>\n",
       "</tr>\n",
       "<tr>\n",
       "  <th>main_category_Film & Video</th> <td>-1083.2606</td> <td>  404.246</td> <td>   -2.680</td> <td> 0.007</td> <td>-1875.571</td> <td> -290.950</td>\n",
       "</tr>\n",
       "<tr>\n",
       "  <th>main_category_Food</th>         <td>-2262.2413</td> <td>  600.847</td> <td>   -3.765</td> <td> 0.000</td> <td>-3439.885</td> <td>-1084.598</td>\n",
       "</tr>\n",
       "<tr>\n",
       "  <th>main_category_Games</th>        <td> 1.384e+04</td> <td>  512.857</td> <td>   26.994</td> <td> 0.000</td> <td> 1.28e+04</td> <td> 1.48e+04</td>\n",
       "</tr>\n",
       "<tr>\n",
       "  <th>main_category_Journalism</th>   <td>-4696.0109</td> <td> 1306.356</td> <td>   -3.595</td> <td> 0.000</td> <td>-7256.431</td> <td>-2135.590</td>\n",
       "</tr>\n",
       "<tr>\n",
       "  <th>main_category_Music</th>        <td>-3367.9611</td> <td>  436.701</td> <td>   -7.712</td> <td> 0.000</td> <td>-4223.883</td> <td>-2512.039</td>\n",
       "</tr>\n",
       "<tr>\n",
       "  <th>main_category_Photography</th>  <td>-3670.9862</td> <td>  875.459</td> <td>   -4.193</td> <td> 0.000</td> <td>-5386.861</td> <td>-1955.111</td>\n",
       "</tr>\n",
       "<tr>\n",
       "  <th>main_category_Publishing</th>   <td>-3926.8342</td> <td>  487.456</td> <td>   -8.056</td> <td> 0.000</td> <td>-4882.235</td> <td>-2971.434</td>\n",
       "</tr>\n",
       "<tr>\n",
       "  <th>main_category_Technology</th>   <td> 1.389e+04</td> <td>  530.330</td> <td>   26.187</td> <td> 0.000</td> <td> 1.28e+04</td> <td> 1.49e+04</td>\n",
       "</tr>\n",
       "<tr>\n",
       "  <th>main_category_Theater</th>      <td>-3192.3330</td> <td>  870.491</td> <td>   -3.667</td> <td> 0.000</td> <td>-4898.470</td> <td>-1486.195</td>\n",
       "</tr>\n",
       "<tr>\n",
       "  <th>usd_goal_real</th>              <td>    0.0007</td> <td>    0.000</td> <td>    1.631</td> <td> 0.103</td> <td>   -0.000</td> <td>    0.001</td>\n",
       "</tr>\n",
       "<tr>\n",
       "  <th>delta t</th>                    <td>    1.0523</td> <td>    2.213</td> <td>    0.476</td> <td> 0.634</td> <td>   -3.285</td> <td>    5.389</td>\n",
       "</tr>\n",
       "</table>\n",
       "<table class=\"simpletable\">\n",
       "<tr>\n",
       "  <th>Omnibus:</th>       <td>1266803.741</td> <th>  Durbin-Watson:     </th>     <td>   2.001</td>     \n",
       "</tr>\n",
       "<tr>\n",
       "  <th>Prob(Omnibus):</th>   <td> 0.000</td>    <th>  Jarque-Bera (JB):  </th> <td>2160412393104.332</td>\n",
       "</tr>\n",
       "<tr>\n",
       "  <th>Skew:</th>            <td>83.084</td>    <th>  Prob(JB):          </th>     <td>    0.00</td>     \n",
       "</tr>\n",
       "<tr>\n",
       "  <th>Kurtosis:</th>       <td>12382.408</td>  <th>  Cond. No.          </th>     <td>2.97e+21</td>     \n",
       "</tr>\n",
       "</table><br/><br/>Warnings:<br/>[1] Standard Errors assume that the covariance matrix of the errors is correctly specified.<br/>[2] The smallest eigenvalue is 9.47e-26. This might indicate that there are<br/>strong multicollinearity problems or that the design matrix is singular."
      ],
      "text/plain": [
       "<class 'statsmodels.iolib.summary.Summary'>\n",
       "\"\"\"\n",
       "                            OLS Regression Results                            \n",
       "==============================================================================\n",
       "Dep. Variable:       usd_pledged_real   R-squared:                       0.008\n",
       "Model:                            OLS   Adj. R-squared:                  0.008\n",
       "Method:                 Least Squares   F-statistic:                     151.6\n",
       "Date:                Wed, 20 Nov 2019   Prob (F-statistic):               0.00\n",
       "Time:                        17:06:10   Log-Likelihood:            -4.3372e+06\n",
       "No. Observations:              338275   AIC:                         8.674e+06\n",
       "Df Residuals:                  338257   BIC:                         8.675e+06\n",
       "Df Model:                          17                                         \n",
       "Covariance Type:            nonrobust                                         \n",
       "==============================================================================================\n",
       "                                 coef    std err          t      P>|t|      [0.025      0.975]\n",
       "----------------------------------------------------------------------------------------------\n",
       "const                       7197.0784    211.313     34.059      0.000    6782.911    7611.246\n",
       "goal                          -0.0003      0.000     -0.697      0.486      -0.001       0.001\n",
       "main_category_Art          -4032.3782    564.742     -7.140      0.000   -5139.256   -2925.500\n",
       "main_category_Comics        -480.4577    872.516     -0.551      0.582   -2190.563    1229.648\n",
       "main_category_Crafts       -5641.7619    964.362     -5.850      0.000   -7531.884   -3751.640\n",
       "main_category_Dance        -3710.9949   1455.416     -2.550      0.011   -6563.569    -858.421\n",
       "main_category_Design        1.694e+04    548.701     30.872      0.000    1.59e+04     1.8e+04\n",
       "main_category_Fashion      -1409.1162    620.868     -2.270      0.023   -2625.999    -192.233\n",
       "main_category_Film & Video -1083.2606    404.246     -2.680      0.007   -1875.571    -290.950\n",
       "main_category_Food         -2262.2413    600.847     -3.765      0.000   -3439.885   -1084.598\n",
       "main_category_Games         1.384e+04    512.857     26.994      0.000    1.28e+04    1.48e+04\n",
       "main_category_Journalism   -4696.0109   1306.356     -3.595      0.000   -7256.431   -2135.590\n",
       "main_category_Music        -3367.9611    436.701     -7.712      0.000   -4223.883   -2512.039\n",
       "main_category_Photography  -3670.9862    875.459     -4.193      0.000   -5386.861   -1955.111\n",
       "main_category_Publishing   -3926.8342    487.456     -8.056      0.000   -4882.235   -2971.434\n",
       "main_category_Technology    1.389e+04    530.330     26.187      0.000    1.28e+04    1.49e+04\n",
       "main_category_Theater      -3192.3330    870.491     -3.667      0.000   -4898.470   -1486.195\n",
       "usd_goal_real                  0.0007      0.000      1.631      0.103      -0.000       0.001\n",
       "delta t                        1.0523      2.213      0.476      0.634      -3.285       5.389\n",
       "==============================================================================\n",
       "Omnibus:                  1266803.741   Durbin-Watson:                   2.001\n",
       "Prob(Omnibus):                  0.000   Jarque-Bera (JB):    2160412393104.332\n",
       "Skew:                          83.084   Prob(JB):                         0.00\n",
       "Kurtosis:                   12382.408   Cond. No.                     2.97e+21\n",
       "==============================================================================\n",
       "\n",
       "Warnings:\n",
       "[1] Standard Errors assume that the covariance matrix of the errors is correctly specified.\n",
       "[2] The smallest eigenvalue is 9.47e-26. This might indicate that there are\n",
       "strong multicollinearity problems or that the design matrix is singular.\n",
       "\"\"\""
      ]
     },
     "execution_count": 41,
     "metadata": {},
     "output_type": "execute_result"
    }
   ],
   "source": [
    "model = regress(X_train2,y_train2)\n",
    "model.summary() "
   ]
  },
  {
   "cell_type": "code",
   "execution_count": 42,
   "metadata": {},
   "outputs": [
    {
     "name": "stdout",
     "output_type": "stream",
     "text": [
      "RMS = 102563.9825659787\n"
     ]
    }
   ],
   "source": [
    "x_vc=(sm.add_constant(X_test2))\n",
    "y_pred2=model.predict(x_vc) \n",
    "erro = rms(y_test2,y_pred2)\n",
    "print(\"RMS =\",erro)"
   ]
  },
  {
   "cell_type": "code",
   "execution_count": 43,
   "metadata": {},
   "outputs": [
    {
     "data": {
      "text/plain": [
       "(('Acurácia=', 0.09894378375502168), ('Erro=', 0.9010562162449783))"
      ]
     },
     "execution_count": 43,
     "metadata": {},
     "output_type": "execute_result"
    }
   ],
   "source": [
    "acc = acuracia(0.35, y_pred2, y_test2)\n",
    "acc"
   ]
  },
  {
   "cell_type": "markdown",
   "metadata": {},
   "source": [
    "## Random Forest Regressor"
   ]
  },
  {
   "cell_type": "code",
   "execution_count": 44,
   "metadata": {},
   "outputs": [],
   "source": [
    "from sklearn.ensemble import RandomForestRegressor\n",
    "from sklearn.datasets import make_regression"
   ]
  },
  {
   "cell_type": "code",
   "execution_count": 45,
   "metadata": {},
   "outputs": [],
   "source": [
    "regr_rd = RandomForestRegressor(max_depth=4, random_state=113, n_estimators=100) \n",
    "regr_rd.fit(X_train2, y_train2)  \n",
    "\n",
    "y_pred3=regr_rd.predict(X_test2)"
   ]
  },
  {
   "cell_type": "code",
   "execution_count": 46,
   "metadata": {},
   "outputs": [
    {
     "data": {
      "text/plain": [
       "0.031000437373576162"
      ]
     },
     "execution_count": 46,
     "metadata": {},
     "output_type": "execute_result"
    }
   ],
   "source": [
    "from sklearn.metrics import r2_score\n",
    "\n",
    "r2_score(y_test2, y_pred3, multioutput=\"variance_weighted\")"
   ]
  },
  {
   "cell_type": "code",
   "execution_count": 47,
   "metadata": {},
   "outputs": [],
   "source": [
    "#comparador de RMS sklearn metrics"
   ]
  },
  {
   "cell_type": "code",
   "execution_count": 48,
   "metadata": {
    "scrolled": true
   },
   "outputs": [
    {
     "data": {
      "text/plain": [
       "(('Acurácia=', 0.15893793066751802), ('Erro=', 0.841062069332482))"
      ]
     },
     "execution_count": 48,
     "metadata": {},
     "output_type": "execute_result"
    }
   ],
   "source": [
    "acc = acuracia(0.35, y_pred3, y_test2)\n",
    "acc"
   ]
  },
  {
   "cell_type": "code",
   "execution_count": null,
   "metadata": {},
   "outputs": [],
   "source": []
  }
 ],
 "metadata": {
  "kernelspec": {
   "display_name": "Python 3",
   "language": "python",
   "name": "python3"
  },
  "language_info": {
   "codemirror_mode": {
    "name": "ipython",
    "version": 3
   },
   "file_extension": ".py",
   "mimetype": "text/x-python",
   "name": "python",
   "nbconvert_exporter": "python",
   "pygments_lexer": "ipython3",
   "version": "3.7.1"
  }
 },
 "nbformat": 4,
 "nbformat_minor": 2
}
